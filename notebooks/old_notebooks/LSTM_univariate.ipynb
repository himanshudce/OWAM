{
 "cells": [
  {
   "cell_type": "code",
   "execution_count": null,
   "metadata": {},
   "outputs": [],
   "source": [
    "import keras\n",
    "import math\n",
    "import pandas as pd\n",
    "import numpy as np\n",
    "from keras.callbacks import EarlyStopping\n",
    "from sklearn.model_selection import train_test_split\n",
    "from sklearn.model_selection import GridSearchCV\n",
    "from sklearn.preprocessing import StandardScaler\n",
    "from sklearn.metrics import roc_auc_score\n",
    "import matplotlib.pyplot as plt\n",
    "from sklearn.metrics import mean_squared_error, mean_absolute_error\n",
    "import time\n",
    "import pickle\n",
    "pd.set_option('display.max_rows', 500)\n",
    "import os\n",
    "import tensorflow as tf\n",
    "import torch\n",
    "from math import sqrt\n",
    "\n",
    "\n",
    "# define random seeds for Neural Networks\n",
    "torch.manual_seed(0)\n",
    "np.random.seed(0)\n",
    "tf.random.set_seed(0)\n",
    "# ignore warnings jupyter notebook\n",
    "import warnings\n",
    "warnings.filterwarnings('ignore')"
   ]
  },
  {
   "attachments": {},
   "cell_type": "markdown",
   "metadata": {},
   "source": [
    "# OWRI FRAMEWORK"
   ]
  },
  {
   "cell_type": "code",
   "execution_count": null,
   "metadata": {},
   "outputs": [],
   "source": [
    "# results save path\n",
    "base_result_path = '../results/hauge/LSTM'\n",
    "exp_name = 'univariate_AE_real_time_results.pkl'\n",
    "results_save_path = os.path.join(base_result_path, exp_name)"
   ]
  },
  {
   "cell_type": "code",
   "execution_count": null,
   "metadata": {},
   "outputs": [],
   "source": [
    "with open('../data/hauge/processed/featured_fpds_raw.pickle', 'rb') as f:\n",
    "    results = pickle.load(f)"
   ]
  },
  {
   "cell_type": "code",
   "execution_count": null,
   "metadata": {},
   "outputs": [],
   "source": [
    "# load data of correlated results from pickle file\n",
    "with open('../results/hauge/outlier_scores/AE/correlated_results.pickle', 'rb') as f:\n",
    "    correlated_results = pickle.load(f)"
   ]
  },
  {
   "cell_type": "code",
   "execution_count": null,
   "metadata": {},
   "outputs": [],
   "source": [
    "# get target intersections for each trajectory and direction\n",
    "target_intersections={\"T1\":{\"North\":\"K504\", \"South\":\"K561\"},\n",
    "                      \"T2\":{\"North\":\"K703\", \"South\":\"K206\"}}"
   ]
  },
  {
   "cell_type": "code",
   "execution_count": null,
   "metadata": {},
   "outputs": [],
   "source": [
    "thresholds = [0,0.25,0.5,0.75,1]\n",
    "# thresholds = [0.5]"
   ]
  },
  {
   "cell_type": "code",
   "execution_count": null,
   "metadata": {},
   "outputs": [],
   "source": [
    "def merge_trejectory_data(results, trajectory, direction):\n",
    "    data = pd.DataFrame()\n",
    "    for intersection_name in results[trajectory][direction]['raw']:\n",
    "        intersection = results[trajectory][direction]['raw'][intersection_name]\n",
    "        intersection = intersection.rename(columns={\"cars\": intersection_name})\n",
    "        intersection = intersection.set_index(pd.DatetimeIndex(intersection['timestamp']))\n",
    "        intersection = intersection.drop(columns=['timestamp'])\n",
    "        data = pd.merge(data, intersection, left_index=True, right_index=True, how='outer')\n",
    "    data.dropna(inplace=True)\n",
    "    return data"
   ]
  },
  {
   "cell_type": "code",
   "execution_count": null,
   "metadata": {},
   "outputs": [],
   "source": [
    "def preprocess_df(df,n_obs, n_features, sequence_length):\n",
    "    #do scaling:\n",
    "    scaler = StandardScaler()\n",
    "    train_portion = 0.7\n",
    "    val_portion = 0.1\n",
    "    test_portion = 0.2\n",
    "    df_train = df[:math.ceil(len(df)*train_portion)].values\n",
    "    df_val = df[math.ceil(len(df)*train_portion):math.ceil(len(df)*(train_portion+val_portion))].values\n",
    "    df_test = df[math.ceil(len(df)*(train_portion+val_portion)):].values\n",
    "    train_X, train_y = df_train[:, :n_obs], df_train[:, -n_features]\n",
    "    val_X, val_y = df_val[:, :n_obs], df_val[:, -n_features]\n",
    "    test_X, test_y = df_test[:, :n_obs], df_test[:, -n_features]\n",
    "    scl = scaler.fit(train_X) # fit only on training data\n",
    "    train_X = scl.transform(train_X)\n",
    "    val_X = scl.transform(val_X)\n",
    "    test_X = scl.transform(test_X)\n",
    "    train_X = train_X.reshape((train_X.shape[0], sequence_length, n_features))\n",
    "    val_X = val_X.reshape((val_X.shape[0], sequence_length, n_features))\n",
    "    test_X = test_X.reshape((test_X.shape[0], sequence_length, n_features))\n",
    "    return train_X, train_y, val_X, val_y, test_X, test_y, scl"
   ]
  },
  {
   "cell_type": "code",
   "execution_count": null,
   "metadata": {},
   "outputs": [],
   "source": [
    "def series_to_supervised(data, n_in=1, n_out=1, dropnan=True):\n",
    "\tn_vars = 1 if type(data) is list else data.shape[1]\n",
    "\tdf = pd.DataFrame(data)\n",
    "\tcols, names = list(), list()\n",
    "\t# input sequence (t-n, ... t-1)\n",
    "\tfor i in range(n_in, 0, -1):\n",
    "\t\tcols.append(df.shift(i))\n",
    "\t\tnames += [('var%d(t-%d)' % (j+1, i)) for j in range(n_vars)]\n",
    "\t# forecast sequence (t, t+1, ... t+n)\n",
    "\tfor i in range(0, n_out):\n",
    "\t\tcols.append(df.shift(-i))\n",
    "\t\tif i == 0:\n",
    "\t\t\tnames += [('var%d(t)' % (j+1)) for j in range(n_vars)]\n",
    "\t\telse:\n",
    "\t\t\tnames += [('var%d(t+%d)' % (j+1, i)) for j in range(n_vars)]\n",
    "\t# put it all together\n",
    "\tagg = pd.concat(cols, axis=1)\n",
    "\tagg.columns = names\n",
    "\t# drop rows with NaN values\n",
    "\tif dropnan:\n",
    "\t\tagg.dropna(inplace=True)\n",
    "\treturn agg"
   ]
  },
  {
   "cell_type": "code",
   "execution_count": null,
   "metadata": {},
   "outputs": [],
   "source": [
    "def init_model(train_X):\n",
    "    model = keras.models.Sequential()\n",
    "    model.add(keras.layers.LSTM(50, input_shape=(train_X.shape[1], train_X.shape[2])))\n",
    "    model.add(keras.layers.Dense(1))\n",
    "    model.compile(loss=keras.losses.MeanSquaredLogarithmicError(), optimizer='adam')\n",
    "    return model"
   ]
  },
  {
   "cell_type": "code",
   "execution_count": null,
   "metadata": {},
   "outputs": [],
   "source": [
    "def train_model(train_X,train_y,val_X,val_y,model):\n",
    "    es = EarlyStopping(monitor='val_loss', mode='min', verbose=1, patience=20)\n",
    "    history = model.fit(train_X, train_y, epochs=250, batch_size=64, validation_data=(val_X, val_y), \n",
    "                        verbose=0,callbacks=[es], shuffle=False)\n",
    "    return history"
   ]
  },
  {
   "cell_type": "code",
   "execution_count": null,
   "metadata": {},
   "outputs": [],
   "source": [
    "errors={}\n",
    "dfs={}\n",
    "intersection_arrays = []\n",
    "for trajectory in results.keys():\n",
    "    errors[trajectory]={}\n",
    "    print(\"\\n \\n Starting trajectory: {}\".format(trajectory))\n",
    "    for direction in results[trajectory]:\n",
    "        target = target_intersections[trajectory][direction]\n",
    "        errors[trajectory][direction]={}\n",
    "        print(\"Starting direction: {}\".format(direction))\n",
    "        for threshold in thresholds:\n",
    "            errors[trajectory][direction][threshold]={}\n",
    "            # ------------------------------------ data processing ---------------------------------------- #\n",
    "            data = merge_trejectory_data(results, trajectory, direction)# get raw data of the current trajectory and direction\n",
    "            ae_score = correlated_results[trajectory][direction] # AE scores of the current trajectory and direction\n",
    "            number_of_cols = math.ceil(len(ae_score.columns)*threshold) # number of outlier weighted intersections\n",
    "            if number_of_cols==0: # if threshold is 0, then use the target intersection only\n",
    "                number_of_cols=1\n",
    "            top_corr_df = ae_score.corr()[target].sort_values(ascending=False)[:number_of_cols] # get the top correlated intersections\n",
    "            isct_inc = top_corr_df.index.tolist()\n",
    "            df = data[isct_inc].copy(deep=True)\n",
    "            df = df[ [target] + [ col for col in df.columns if col != target ] ]  #move target var to front of DF\n",
    "            # df = df.mul(top_corr_df, axis=1)\n",
    "            sequence_length = 12 # number of time steps to look back\n",
    "            n_features = len(isct_inc) # number of features (correlated intersections)\n",
    "            output_pred = 1 # number of time steps to predict\n",
    "            n_obs = sequence_length * n_features # number of columns in the input\n",
    "            reframed = series_to_supervised(df, sequence_length, output_pred)\n",
    "            train_X, train_y, val_X, val_y, test_X, test_y, scl = preprocess_df(reframed, n_obs, n_features, sequence_length)\n",
    "    #         break\n",
    "    #     break\n",
    "    # break\n",
    "            # ------------------------------------ modelling ---------------------------------------------- #\n",
    "            print('training model for threshold: {}'.format(threshold))\n",
    "            model=init_model(train_X)\n",
    "            start = time.time()\n",
    "            history = train_model(train_X,train_y,val_X,val_y,model)\n",
    "            end = time.time()\n",
    "            print(\"Training time: {}\".format(end-start))\n",
    "\n",
    "            # ------------------------------------ evaluation ---------------------------------------------- #\n",
    "            print('evaluating model for threshold: {}'.format(threshold))\n",
    "            yhat = model.predict(test_X)\n",
    "            errors[trajectory][direction][threshold]['RMSE'] = sqrt(mean_squared_error(yhat,test_y))\n",
    "            errors[trajectory][direction][threshold]['MAE'] = mean_absolute_error(yhat,test_y)\n",
    "            errors[trajectory][direction][threshold]['history'] = history\n",
    "            errors[trajectory][direction][threshold]['df'] = pd.DataFrame({\"Real\":test_y,\"Predicted\":yhat.reshape(-1)})\n",
    "            errors[trajectory][direction][threshold]['train_time'] = end-start\n",
    "\n",
    "\n",
    "# save errors in save path as pickle file\n",
    "with open(results_save_path, 'wb') as handle:\n",
    "    pickle.dump(errors, handle)"
   ]
  },
  {
   "cell_type": "code",
   "execution_count": null,
   "metadata": {},
   "outputs": [],
   "source": [
    "errors"
   ]
  },
  {
   "cell_type": "code",
   "execution_count": null,
   "metadata": {},
   "outputs": [],
   "source": [
    "AE_results={}\n",
    "for trajectory in errors.keys():\n",
    "    for direction in errors[trajectory].keys():\n",
    "        for threshold in errors[trajectory][direction].keys():\n",
    "            AE_results[trajectory+'_'+direction+'_'+str(threshold)] = errors[trajectory][direction][threshold]['RMSE']"
   ]
  },
  {
   "cell_type": "code",
   "execution_count": null,
   "metadata": {},
   "outputs": [],
   "source": []
  },
  {
   "cell_type": "code",
   "execution_count": null,
   "metadata": {},
   "outputs": [],
   "source": [
    "AE_results"
   ]
  },
  {
   "cell_type": "code",
   "execution_count": null,
   "metadata": {},
   "outputs": [],
   "source": []
  },
  {
   "cell_type": "code",
   "execution_count": null,
   "metadata": {},
   "outputs": [],
   "source": [
    "AE_results={}\n",
    "for trajectory in errors.keys():\n",
    "    for direction in errors[trajectory].keys():\n",
    "        for threshold in errors[trajectory][direction].keys():\n",
    "            AE_results[trajectory+'_'+direction+'_'+str(threshold)] = errors[trajectory][direction][threshold]['RMSE']"
   ]
  },
  {
   "cell_type": "code",
   "execution_count": null,
   "metadata": {},
   "outputs": [],
   "source": [
    "AE_results"
   ]
  },
  {
   "cell_type": "code",
   "execution_count": null,
   "metadata": {},
   "outputs": [],
   "source": []
  },
  {
   "cell_type": "code",
   "execution_count": null,
   "metadata": {},
   "outputs": [],
   "source": []
  },
  {
   "cell_type": "code",
   "execution_count": null,
   "metadata": {},
   "outputs": [],
   "source": []
  },
  {
   "cell_type": "code",
   "execution_count": null,
   "metadata": {},
   "outputs": [],
   "source": []
  },
  {
   "cell_type": "code",
   "execution_count": null,
   "metadata": {},
   "outputs": [],
   "source": []
  },
  {
   "cell_type": "code",
   "execution_count": null,
   "metadata": {},
   "outputs": [],
   "source": []
  },
  {
   "cell_type": "code",
   "execution_count": null,
   "metadata": {},
   "outputs": [],
   "source": [
    "mse(yhat,test_y.reshape((test_y.shape[0], 1)))"
   ]
  },
  {
   "cell_type": "code",
   "execution_count": null,
   "metadata": {},
   "outputs": [],
   "source": [
    "test_X.shape"
   ]
  },
  {
   "cell_type": "code",
   "execution_count": null,
   "metadata": {},
   "outputs": [],
   "source": [
    "df_train[:,:n_obs].reshape(-1,sequence_length,n_features)"
   ]
  },
  {
   "cell_type": "code",
   "execution_count": null,
   "metadata": {},
   "outputs": [],
   "source": [
    "reframed.values.reshape(-1, sequence_length, n_features).shape"
   ]
  },
  {
   "cell_type": "code",
   "execution_count": null,
   "metadata": {},
   "outputs": [],
   "source": [
    "reframed.shape[:,:n_obs]"
   ]
  },
  {
   "cell_type": "code",
   "execution_count": null,
   "metadata": {},
   "outputs": [],
   "source": [
    "df_train.shape, df_val.shape, df_test.shape"
   ]
  },
  {
   "cell_type": "code",
   "execution_count": null,
   "metadata": {},
   "outputs": [],
   "source": []
  },
  {
   "cell_type": "code",
   "execution_count": null,
   "metadata": {},
   "outputs": [],
   "source": []
  },
  {
   "cell_type": "code",
   "execution_count": null,
   "metadata": {},
   "outputs": [],
   "source": [
    "ae_score = correlated_results[trajectory][direction]"
   ]
  },
  {
   "cell_type": "code",
   "execution_count": null,
   "metadata": {},
   "outputs": [],
   "source": [
    "ae_score.corr()[target].sort_values(ascending=False)[:1].index.tolist()"
   ]
  },
  {
   "cell_type": "code",
   "execution_count": null,
   "metadata": {},
   "outputs": [],
   "source": []
  },
  {
   "cell_type": "code",
   "execution_count": null,
   "metadata": {},
   "outputs": [],
   "source": [
    "isct_inc"
   ]
  },
  {
   "cell_type": "code",
   "execution_count": null,
   "metadata": {},
   "outputs": [],
   "source": [
    "df = data[isct_inc].copy(deep=True)\n",
    "#move target var to front of DF\n",
    "df = df[ [target] + [ col for col in df.columns if col != target ] ]"
   ]
  },
  {
   "cell_type": "code",
   "execution_count": null,
   "metadata": {},
   "outputs": [],
   "source": []
  },
  {
   "cell_type": "code",
   "execution_count": null,
   "metadata": {},
   "outputs": [],
   "source": []
  },
  {
   "cell_type": "code",
   "execution_count": null,
   "metadata": {},
   "outputs": [],
   "source": []
  },
  {
   "cell_type": "code",
   "execution_count": null,
   "metadata": {},
   "outputs": [],
   "source": []
  },
  {
   "cell_type": "code",
   "execution_count": null,
   "metadata": {},
   "outputs": [],
   "source": []
  },
  {
   "cell_type": "code",
   "execution_count": null,
   "metadata": {},
   "outputs": [],
   "source": [
    "# specify the lag sequence\n",
    "sequence_length = 12\n",
    "n_features = len(isct_inc)\n",
    "# frame as supervised learning\n",
    "reframed = series_to_supervised(df, sequence_length, 1)"
   ]
  },
  {
   "cell_type": "code",
   "execution_count": null,
   "metadata": {},
   "outputs": [],
   "source": []
  },
  {
   "cell_type": "code",
   "execution_count": null,
   "metadata": {},
   "outputs": [],
   "source": []
  },
  {
   "cell_type": "code",
   "execution_count": null,
   "metadata": {},
   "outputs": [],
   "source": []
  },
  {
   "cell_type": "code",
   "execution_count": null,
   "metadata": {},
   "outputs": [],
   "source": []
  },
  {
   "cell_type": "code",
   "execution_count": null,
   "metadata": {},
   "outputs": [],
   "source": [
    "values = reframed.values\n",
    "n_train_hours = math.ceil(len(df)*0.8)\n",
    "train = values[:n_train_hours, :]\n",
    "test = values[n_train_hours:, :]"
   ]
  },
  {
   "cell_type": "code",
   "execution_count": null,
   "metadata": {},
   "outputs": [],
   "source": [
    "train.shape"
   ]
  },
  {
   "cell_type": "code",
   "execution_count": null,
   "metadata": {},
   "outputs": [],
   "source": [
    "# split into input and outputs\n",
    "n_obs = sequence_length * n_features\n",
    "train_X, train_y = train[:, :n_obs], train[:, -n_features]\n",
    "test_X, test_y = test[:, :n_obs], test[:, -n_features]"
   ]
  },
  {
   "cell_type": "code",
   "execution_count": null,
   "metadata": {},
   "outputs": [],
   "source": [
    "train_X = train_X.reshape((train_X.shape[0], sequence_length, n_features))\n",
    "test_X = test_X.reshape((test_X.shape[0], sequence_length, n_features))"
   ]
  },
  {
   "cell_type": "code",
   "execution_count": null,
   "metadata": {},
   "outputs": [],
   "source": [
    "train_X.shape, train_y.shape, test_X.shape, test_y.shape"
   ]
  },
  {
   "cell_type": "code",
   "execution_count": null,
   "metadata": {},
   "outputs": [],
   "source": []
  },
  {
   "cell_type": "code",
   "execution_count": null,
   "metadata": {},
   "outputs": [],
   "source": []
  },
  {
   "cell_type": "code",
   "execution_count": null,
   "metadata": {},
   "outputs": [],
   "source": []
  },
  {
   "cell_type": "code",
   "execution_count": null,
   "metadata": {},
   "outputs": [],
   "source": []
  },
  {
   "cell_type": "code",
   "execution_count": null,
   "metadata": {},
   "outputs": [],
   "source": []
  }
 ],
 "metadata": {
  "kernelspec": {
   "display_name": "OWRI",
   "language": "python",
   "name": "python3"
  },
  "language_info": {
   "codemirror_mode": {
    "name": "ipython",
    "version": 3
   },
   "file_extension": ".py",
   "mimetype": "text/x-python",
   "name": "python",
   "nbconvert_exporter": "python",
   "pygments_lexer": "ipython3",
   "version": "3.10.10"
  },
  "orig_nbformat": 4
 },
 "nbformat": 4,
 "nbformat_minor": 2
}
